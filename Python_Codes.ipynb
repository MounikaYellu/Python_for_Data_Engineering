{
 "cells": [
  {
   "cell_type": "code",
   "execution_count": 1,
   "metadata": {},
   "outputs": [
    {
     "name": "stdout",
     "output_type": "stream",
     "text": [
      "Hello, Python!\n"
     ]
    }
   ],
   "source": [
    "print(\"Hello, Python!\")"
   ]
  },
  {
   "cell_type": "code",
   "execution_count": 2,
   "metadata": {},
   "outputs": [
    {
     "name": "stdout",
     "output_type": "stream",
     "text": [
      "True\n"
     ]
    }
   ],
   "source": [
    "if True:\n",
    "    print(\"True\")\n",
    "else:\n",
    "    print(\"False\")"
   ]
  },
  {
   "cell_type": "code",
   "execution_count": null,
   "metadata": {},
   "outputs": [],
   "source": [
    "import sys\n",
    "\n",
    "file_name=input(\"Enter filename: \")\n",
    "if len(file_name) == 0:\n",
    "    print(\"Please enter filename\")\n",
    "    sys.exit()\n",
    "    \n",
    "try:\n",
    "    file=open(file_name,\"w\")\n",
    "except IOError:\n",
    "    print(\"There was an error writing to\", file_name)\n",
    "    sys.exit()\n",
    "print(\"Enter file contents \\n Enter Ctrl-D \")\n",
    "print(\" When finished\")\n",
    "contents=[]\n",
    "while True:\n",
    "    try:\n",
    "        file_text=input(\"Enter text:\")\n",
    "    except EOFError:\n",
    "        break\n",
    "    contents.append(file_text)\n",
    "file.write(str(contents))\n",
    "file.close()\n",
    "\n",
    "try:\n",
    "    file=open(file_name,\"r\")\n",
    "except IOError:\n",
    "    print(\"There was an error reading file\")\n",
    "    sys.exit()\n",
    "file_text=file.read()\n",
    "file.close()\n",
    "print(file_text)\n",
    "    "
   ]
  },
  {
   "cell_type": "code",
   "execution_count": 1,
   "metadata": {},
   "outputs": [
    {
     "name": "stdout",
     "output_type": "stream",
     "text": [
      "100 <class 'int'>\n",
      "1000.0 <class 'float'>\n",
      "John <class 'str'>\n"
     ]
    }
   ],
   "source": [
    "# Variable Assignment\n",
    "counter=100\n",
    "miles=1000.0\n",
    "name=\"John\"\n",
    "print(counter,type(counter))\n",
    "print(miles,type(miles))\n",
    "print(name,type(name))"
   ]
  },
  {
   "cell_type": "code",
   "execution_count": 2,
   "metadata": {},
   "outputs": [
    {
     "name": "stdout",
     "output_type": "stream",
     "text": [
      "1 2 John\n"
     ]
    }
   ],
   "source": [
    "# Multiple Assignment\n",
    "a,b,c=1,2,\"John\"\n",
    "print(a,b,c)"
   ]
  },
  {
   "cell_type": "code",
   "execution_count": 5,
   "metadata": {},
   "outputs": [
    {
     "name": "stdout",
     "output_type": "stream",
     "text": [
      "1 100\n"
     ]
    }
   ],
   "source": [
    "#Python numbers\n",
    "var1=1\n",
    "var2=100\n",
    "print(var1,var2)\n",
    "del var1,var2 #delete reference to the number object\n",
    "#print(var1,var2) Throws NameError: name 'var1' is not defined"
   ]
  },
  {
   "cell_type": "code",
   "execution_count": 6,
   "metadata": {},
   "outputs": [
    {
     "name": "stdout",
     "output_type": "stream",
     "text": [
      "Hello World!\n",
      "H\n",
      "llo\n",
      "llo World!\n",
      "Hello\n",
      "!\n",
      "!dlroW olleH\n",
      "Hello World!Hello World!\n",
      "Hello World!Hello Python!\n"
     ]
    }
   ],
   "source": [
    "#Python Strings\n",
    "string= \"Hello World!\"\n",
    "\n",
    "print(string)\n",
    "print(string[0])\n",
    "print(string[2:5])\n",
    "print(string[2:])\n",
    "print(string[:5])\n",
    "print(string[-1])\n",
    "print(string[::-1])\n",
    "print(string*2)\n",
    "print(string + \"Hello Python!\")\n"
   ]
  },
  {
   "cell_type": "code",
   "execution_count": 8,
   "metadata": {},
   "outputs": [
    {
     "name": "stdout",
     "output_type": "stream",
     "text": [
      "['abcd', 768, 2.34, 'John', 70.2]\n",
      "abcd\n",
      "[768, 2.34]\n",
      "[2.34, 'John', 70.2]\n",
      "[123, 'John', 123, 'John']\n",
      "['abcd', 768, 2.34, 'John', 70.2, 123, 'John']\n"
     ]
    }
   ],
   "source": [
    "#Python Lists\n",
    "list1=['abcd',768,2.34,'John',70.2]\n",
    "tinylist=[123,'John']\n",
    "print(list1)\n",
    "print(list1[0])\n",
    "print(list1[1:3])\n",
    "print(list1[2:])\n",
    "print(tinylist * 2)\n",
    "print(list1 + tinylist)\n"
   ]
  },
  {
   "cell_type": "code",
   "execution_count": 10,
   "metadata": {},
   "outputs": [
    {
     "name": "stdout",
     "output_type": "stream",
     "text": [
      "('abcd', 786, 2.23, 'John', 70.2)\n",
      "abcd\n",
      "(786, 2.23)\n",
      "(70.2, 'John', 2.23, 786, 'abcd')\n",
      "(123, 'John', 123, 'John')\n",
      "(123, 'John', 'abcd', 786, 2.23, 'John', 70.2)\n"
     ]
    }
   ],
   "source": [
    "#Python Tuples\n",
    "tuple1=('abcd',786,2.23,'John',70.2)\n",
    "tinytuple=(123,\"John\")\n",
    "print(tuple1)\n",
    "print(tuple1[0])\n",
    "print(tuple1[1:3])\n",
    "print(tuple1[::-1])\n",
    "print(tinytuple * 2)\n",
    "print(tinytuple + tuple1)\n",
    "#tuple1[0]=9 Throws TypeError: 'tuple' object does not support item assignment"
   ]
  },
  {
   "cell_type": "code",
   "execution_count": 11,
   "metadata": {},
   "outputs": [
    {
     "name": "stdout",
     "output_type": "stream",
     "text": [
      "This is One\n",
      "This is Two\n",
      "{'name': 'John', 'code': 6734, 'dept': 'sales'}\n",
      "dict_keys(['name', 'code', 'dept'])\n",
      "dict_values(['John', 6734, 'sales'])\n"
     ]
    }
   ],
   "source": [
    "#Python Dictionary\n",
    "dict1={}\n",
    "dict1['one'] = \"This is One\"\n",
    "dict1[2] = \"This is Two\"\n",
    "tinydict = {'name':'John','code':6734,'dept':'sales'}\n",
    "print(dict1['one'])\n",
    "print(dict1[2])\n",
    "print(tinydict)\n",
    "print(tinydict.keys())\n",
    "print(tinydict.values())\n"
   ]
  },
  {
   "cell_type": "code",
   "execution_count": 14,
   "metadata": {},
   "outputs": [
    {
     "name": "stdout",
     "output_type": "stream",
     "text": [
      "Variable value is 100\n",
      "Enter Amount:6900\n",
      "Discount 1035.0\n",
      "Net Payable: 5865.0\n"
     ]
    }
   ],
   "source": [
    "#Decision Making If,If Else\n",
    "var=100\n",
    "if var==100:\n",
    "    print(\"Variable value is 100\")\n",
    "\n",
    "amount=int(input(\"Enter Amount:\"))\n",
    "if amount<1000:\n",
    "    discount=amount*0.05\n",
    "    print(\"Discount\",discount)\n",
    "elif amount<5000:\n",
    "    discount=amount*0.10\n",
    "    print(\"Discount\",discount)\n",
    "else:\n",
    "    discount =amount*0.15\n",
    "    print(\"Discount\",discount)\n",
    "print(\"Net Payable:\",amount-discount)"
   ]
  },
  {
   "cell_type": "code",
   "execution_count": null,
   "metadata": {},
   "outputs": [
    {
     "name": "stdout",
     "output_type": "stream",
     "text": [
      "The count is: 0\n",
      "The count is: 1\n",
      "The count is: 2\n",
      "The count is: 3\n",
      "The count is: 4\n",
      "The count is: 5\n",
      "The count is: 6\n",
      "The count is: 7\n",
      "The count is: 8\n",
      "Enter a Number:8\n"
     ]
    }
   ],
   "source": [
    "#Loops\n",
    "#while loop\n",
    "count=0\n",
    "while(count<9):\n",
    "    print(\"The count is:\",count)\n",
    "    count=count+1\n",
    "#infinite Loop\n",
    "var=1\n",
    "while var==1:\n",
    "    num=int(input(\"Enter a Number:\"))\n"
   ]
  },
  {
   "cell_type": "code",
   "execution_count": 6,
   "metadata": {},
   "outputs": [
    {
     "name": "stdout",
     "output_type": "stream",
     "text": [
      "range(0, 5)\n",
      "[0, 1, 2, 3, 4]\n",
      "0\n",
      "1\n",
      "2\n",
      "3\n",
      "4\n",
      "current letter: p\n",
      "current letter: y\n",
      "current letter: t\n",
      "current letter: h\n",
      "current letter: o\n",
      "current letter: n\n",
      "Banana\n",
      "Apple\n",
      "Mango\n",
      "0 Banana\n",
      "1 Apple\n",
      "2 Mango\n",
      "The list contains an even number\n"
     ]
    }
   ],
   "source": [
    "# For loop\n",
    "print(range(5))\n",
    "print(list(range(5)))\n",
    "\n",
    "for var in range(5):\n",
    "    print(var)\n",
    "\n",
    "for letter in 'python':\n",
    "    print('current letter:',letter)\n",
    "\n",
    "fruits=['Banana','Apple','Mango']\n",
    "\n",
    "for fruit in fruits:\n",
    "    print(fruit)\n",
    "\n",
    "for index in range(len(fruits)):\n",
    "    print(index, fruits[index])\n",
    "\n",
    "numbers=[11,33,55,38,90,67,65]\n",
    "for num in numbers:\n",
    "    if num%2==0:\n",
    "        print('The list contains an even number')\n",
    "        break\n",
    "else:\n",
    "    print(\"The list doesn't contain an even number\")"
   ]
  },
  {
   "cell_type": "code",
   "execution_count": 13,
   "metadata": {},
   "outputs": [
    {
     "name": "stdout",
     "output_type": "stream",
     "text": [
      "1 2 3 4 5 6 7 8 9 10 \n",
      "2 4 6 8 10 12 14 16 18 20 \n",
      "3 6 9 12 15 18 21 24 27 30 \n",
      "4 8 12 16 20 24 28 32 36 40 \n",
      "5 10 15 20 25 30 35 40 45 50 \n",
      "6 12 18 24 30 36 42 48 54 60 \n",
      "7 14 21 28 35 42 49 56 63 70 \n",
      "8 16 24 32 40 48 56 64 72 80 \n",
      "9 18 27 36 45 54 63 72 81 90 \n",
      "10 20 30 40 50 60 70 80 90 100 \n"
     ]
    }
   ],
   "source": [
    "#nested loop\n",
    "for i in range(1,11):\n",
    "    for j in range(1,11):\n",
    "        k=i*j\n",
    "        print(k,end=' ')\n",
    "    print()"
   ]
  },
  {
   "cell_type": "code",
   "execution_count": 16,
   "metadata": {},
   "outputs": [
    {
     "name": "stdout",
     "output_type": "stream",
     "text": [
      "Current Variable value: 10\n",
      "Current Variable value: 9\n",
      "Current Variable value: 8\n",
      "Current Variable value: 7\n",
      "Current Variable value: 6\n",
      "Any Number:65\n",
      "Number not found in list\n"
     ]
    }
   ],
   "source": [
    "#Loop control statements\n",
    "#Break\n",
    "var=10\n",
    "while var>0:\n",
    "    print('Current Variable value:',var)\n",
    "    var=var-1\n",
    "    if var==5:\n",
    "        break\n",
    "\n",
    "n=int(input('Any Number:'))\n",
    "numbers=[11,33,45,89,76,54]\n",
    "for num in numbers:\n",
    "    if num==n:\n",
    "        print(\"Number found in list\")\n",
    "        break\n",
    "else:\n",
    "    print('Number not found in list')"
   ]
  },
  {
   "cell_type": "code",
   "execution_count": 17,
   "metadata": {},
   "outputs": [
    {
     "name": "stdout",
     "output_type": "stream",
     "text": [
      "p\n",
      "y\n",
      "t\n",
      "o\n",
      "n\n"
     ]
    }
   ],
   "source": [
    "#continue\n",
    "for letter in 'python':\n",
    "    if letter=='h':\n",
    "        continue\n",
    "    print(letter)"
   ]
  },
  {
   "cell_type": "code",
   "execution_count": 19,
   "metadata": {},
   "outputs": [
    {
     "name": "stdout",
     "output_type": "stream",
     "text": [
      "PYThis is pass block\n",
      "THON"
     ]
    }
   ],
   "source": [
    "#pass statement\n",
    "for letter in 'PYTHON':\n",
    "    if letter=='T':\n",
    "        pass\n",
    "        print(\"This is pass block\")\n",
    "    print(letter,end='')"
   ]
  },
  {
   "cell_type": "code",
   "execution_count": 34,
   "metadata": {},
   "outputs": [
    {
     "name": "stdout",
     "output_type": "stream",
     "text": [
      "<list_iterator object at 0x000001E9F7155080>\n",
      "1 2 3 4 1 2 3 4 "
     ]
    }
   ],
   "source": [
    "#Iterator\n",
    "\n",
    "list=[1,2,3,4]\n",
    "it=iter(list)\n",
    "print(it)\n",
    "for x in range(4):\n",
    "    print(next(it),end=' ')\n",
    "it=iter(list)\n",
    "for x in it:\n",
    "    print(x,end=' ')\n",
    "\n",
    " "
   ]
  },
  {
   "cell_type": "code",
   "execution_count": 38,
   "metadata": {},
   "outputs": [
    {
     "name": "stdout",
     "output_type": "stream",
     "text": [
      "0 1 1 2 3 5 8 13 21 34 "
     ]
    }
   ],
   "source": [
    "#Generator\n",
    "def fibonacci(n): #Generator Function\n",
    "    a,b=0,1\n",
    "    for i in range(n):\n",
    "        yield a\n",
    "        a,b=b,a+b\n",
    "        \n",
    "f=fibonacci(10) # f is an iterator object\n",
    "for i in range(10):\n",
    "    print(next(f),end=' ')\n",
    "        "
   ]
  },
  {
   "cell_type": "code",
   "execution_count": 45,
   "metadata": {},
   "outputs": [
    {
     "name": "stdout",
     "output_type": "stream",
     "text": [
      "random(): 0.7079187088426243\n",
      "randrange(1,100,2): 99\n",
      "randrange(100): 3\n",
      "d\n",
      "3\n",
      "5\n",
      "[20, 89, 17, 29]\n"
     ]
    }
   ],
   "source": [
    "#random function\n",
    "import random\n",
    "print(\"random():\",random.random())\n",
    "print(\"randrange(1,100,2):\",random.randrange(1,100,2))\n",
    "print(\"randrange(100):\",random.randrange(100))\n",
    "print(random.choice('Hello World'))\n",
    "print(random.choice([1,2,3,4]))\n",
    "print(random.choice(range(100)))\n",
    "list=[20,17,29,89]\n",
    "random.shuffle(list)\n",
    "print(list)"
   ]
  },
  {
   "cell_type": "code",
   "execution_count": 46,
   "metadata": {},
   "outputs": [
    {
     "name": "stdout",
     "output_type": "stream",
     "text": [
      "My name is Zara and my weight is 21 kg!\n"
     ]
    }
   ],
   "source": [
    "#String Formatting Operator\n",
    "print(\"My name is %s and my weight is %d kg!\" %('Zara',21))"
   ]
  },
  {
   "cell_type": "code",
   "execution_count": 47,
   "metadata": {},
   "outputs": [
    {
     "name": "stdout",
     "output_type": "stream",
     "text": [
      "C:\\nowhere\n",
      "C:\\\\nowhere\n",
      "C:\\\\nowhere\n"
     ]
    }
   ],
   "source": [
    "print('C:\\\\nowhere')\n",
    "print(r'C:\\\\nowhere')\n",
    "print(R'C:\\\\nowhere')"
   ]
  },
  {
   "cell_type": "code",
   "execution_count": 52,
   "metadata": {},
   "outputs": [
    {
     "name": "stdout",
     "output_type": "stream",
     "text": [
      "1587902192.5004091\n",
      "time.struct_time(tm_year=2020, tm_mon=4, tm_mday=26, tm_hour=17, tm_min=26, tm_sec=32, tm_wday=6, tm_yday=117, tm_isdst=0)\n",
      "time.struct_time(tm_year=2020, tm_mon=4, tm_mday=26, tm_hour=17, tm_min=26, tm_sec=32, tm_wday=6, tm_yday=117, tm_isdst=0)\n",
      "Sun Apr 26 17:26:32 2020\n",
      "     April 2020\n",
      "Mo Tu We Th Fr Sa Su\n",
      "       1  2  3  4  5\n",
      " 6  7  8  9 10 11 12\n",
      "13 14 15 16 17 18 19\n",
      "20 21 22 23 24 25 26\n",
      "27 28 29 30\n",
      "\n"
     ]
    }
   ],
   "source": [
    "import time\n",
    "import calendar\n",
    "print(time.time())\n",
    "print(time.localtime())\n",
    "print(time.localtime(time.time()))\n",
    "print(time.asctime(time.localtime(time.time())))\n",
    "print(calendar.month(2020,4))"
   ]
  },
  {
   "cell_type": "code",
   "execution_count": 59,
   "metadata": {},
   "outputs": [
    {
     "name": "stdout",
     "output_type": "stream",
     "text": [
      "Inside Function [1, 2, 3, 4]\n",
      "Outside Function [10, 20, 30]\n",
      "Name: Miki\n",
      "Age: 50\n",
      "Name: Miki\n",
      "Age: 35\n",
      "Output is:\n",
      "10 Output is:\n",
      "70 60 50 30\n",
      "10\n"
     ]
    }
   ],
   "source": [
    "#Functions\n",
    "def changeme(mylist):\n",
    "    mylist=[1,2,3,4]\n",
    "    print(\"Inside Function\",mylist)\n",
    "mylist=[10,20,30]\n",
    "changeme(mylist)\n",
    "print(\"Outside Function\",mylist)\n",
    "#Default Arguments\n",
    "def printinfo(name,age=35):\n",
    "    print(\"Name:\",name)\n",
    "    print(\"Age:\",age)\n",
    "    return\n",
    "printinfo(age=50,name=\"Miki\")\n",
    "printinfo(name='Miki')\n",
    "#Variable Length Arguments\n",
    "def printinfo(arg1,*vartuple):\n",
    "    print(\"Output is:\")\n",
    "    print(arg1,end=\" \")\n",
    "    for var in vartuple:\n",
    "        print(var,end=\" \")\n",
    "    return\n",
    "printinfo(10)\n",
    "printinfo(70,60,50)\n",
    "#Anonymous Functions\n",
    "sum=lambda arg1,arg2:arg1+arg2\n",
    "print(sum(10,20))\n",
    "def sum(a,b):\n",
    "    return a+b\n",
    "x=sum(3,7)\n",
    "print(x)"
   ]
  },
  {
   "cell_type": "code",
   "execution_count": 28,
   "metadata": {},
   "outputs": [
    {
     "name": "stdout",
     "output_type": "stream",
     "text": [
      "[1, 1, 2, 3, 5, 8, 13, 21, 34, 55, 89]\n",
      "['__doc__', '__loader__', '__name__', '__package__', '__spec__', 'acos', 'acosh', 'asin', 'asinh', 'atan', 'atan2', 'atanh', 'ceil', 'copysign', 'cos', 'cosh', 'degrees', 'e', 'erf', 'erfc', 'exp', 'expm1', 'fabs', 'factorial', 'floor', 'fmod', 'frexp', 'fsum', 'gamma', 'gcd', 'hypot', 'inf', 'isclose', 'isfinite', 'isinf', 'isnan', 'ldexp', 'lgamma', 'log', 'log10', 'log1p', 'log2', 'modf', 'nan', 'pi', 'pow', 'radians', 'remainder', 'sin', 'sinh', 'sqrt', 'tan', 'tanh', 'tau', 'trunc']\n"
     ]
    }
   ],
   "source": [
    "#modules\n",
    "def fib(n):\n",
    "    result=[]\n",
    "    a,b=0,1\n",
    "    while b<n:\n",
    "        result.append(b)\n",
    "        a,b=b,a+b\n",
    "    return result\n",
    "if __name__==\"__main__\":\n",
    "    f=fib(100)\n",
    "    print(f)\n",
    "#dir() function\n",
    "import math\n",
    "print(dir(math))"
   ]
  },
  {
   "cell_type": "code",
   "execution_count": 27,
   "metadata": {},
   "outputs": [
    {
     "name": "stdout",
     "output_type": "stream",
     "text": [
      "Enter a Stringbadab\n",
      "palindrome\n",
      "aghju\n",
      "ghuja\n",
      "Anagram\n",
      "7\n",
      "[5, 3, 9, 8, 6]\n"
     ]
    }
   ],
   "source": [
    "#Palindrome\n",
    "a=input(\"Enter a String\")\n",
    "b=a[::-1]\n",
    "if a==b:\n",
    "    print(\"palindrome\")\n",
    "#Anagram\n",
    "a=input() #first String\n",
    "b=input() #Second String\n",
    "if sorted(a)==sorted(b):\n",
    "    print(\"Anagram\")\n",
    "#Most Recurring element\n",
    "lst=[10,89,7,55,6,7,8,8,7,6,9]\n",
    "count=0\n",
    "for i in lst:\n",
    "    curr_frequency=lst.count(i)\n",
    "    if(curr_frequency>count):\n",
    "        count=curr_frequency\n",
    "        num=i\n",
    "print(num)\n",
    "#Left shift the array\n",
    "arr=[8,6,5,3,9]\n",
    "for i in range(2):\n",
    "    first=arr[0]\n",
    "    for j in range(len(arr)-1):\n",
    "        arr[j]=arr[j+1]\n",
    "    arr[len(arr)-1]=first\n",
    "print(arr)"
   ]
  },
  {
   "cell_type": "code",
   "execution_count": 29,
   "metadata": {
    "scrolled": true
   },
   "outputs": [
    {
     "name": "stdout",
     "output_type": "stream",
     "text": [
      "Read String is: Python is \n",
      "Current file position: 10\n",
      "Again read string is: Python is \n"
     ]
    }
   ],
   "source": [
    "#Files\n",
    "fo=open(\"foo.txt\",\"w\")\n",
    "fo.write(\"Python is a great language\\n\")\n",
    "fo.close()\n",
    "fo=open(\"foo.txt\",\"r+\")\n",
    "string=fo.read(10)\n",
    "print(\"Read String is:\",string)\n",
    "position=fo.tell()\n",
    "print(\"Current file position:\",position)\n",
    "position=fo.seek(0,0)\n",
    "string=fo.read(10)\n",
    "print(\"Again read string is:\",string)\n",
    "fo.close()"
   ]
  },
  {
   "cell_type": "code",
   "execution_count": 36,
   "metadata": {},
   "outputs": [],
   "source": [
    "#directories in python\n",
    "import os\n",
    "os.rename(\"foo.txt\",\"test.txt\")\n",
    "os.remove(\"test.txt\")\n",
    "os.mkdir(\"test1\")\n",
    "os.getcwd()\n",
    "os.chdir(\"C:\\\\Users\\\\my186016\")\n",
    "os.rmdir(\"test1\")"
   ]
  },
  {
   "cell_type": "code",
   "execution_count": 1,
   "metadata": {},
   "outputs": [
    {
     "name": "stdout",
     "output_type": "stream",
     "text": [
      "32.0\n",
      "451\n"
     ]
    },
    {
     "ename": "AssertionError",
     "evalue": "Colder than absolute zero!",
     "output_type": "error",
     "traceback": [
      "\u001b[1;31m---------------------------------------------------------------------------\u001b[0m",
      "\u001b[1;31mAssertionError\u001b[0m                            Traceback (most recent call last)",
      "\u001b[1;32m<ipython-input-1-7946d738f5ec>\u001b[0m in \u001b[0;36m<module>\u001b[1;34m\u001b[0m\n\u001b[0;32m      6\u001b[0m \u001b[0mprint\u001b[0m\u001b[1;33m(\u001b[0m\u001b[0mKelvinToFahrenheit\u001b[0m\u001b[1;33m(\u001b[0m\u001b[1;36m273\u001b[0m\u001b[1;33m)\u001b[0m\u001b[1;33m)\u001b[0m\u001b[1;33m\u001b[0m\u001b[0m\n\u001b[0;32m      7\u001b[0m \u001b[0mprint\u001b[0m\u001b[1;33m(\u001b[0m\u001b[0mint\u001b[0m\u001b[1;33m(\u001b[0m\u001b[0mKelvinToFahrenheit\u001b[0m\u001b[1;33m(\u001b[0m\u001b[1;36m505.78\u001b[0m\u001b[1;33m)\u001b[0m\u001b[1;33m)\u001b[0m\u001b[1;33m)\u001b[0m\u001b[1;33m\u001b[0m\u001b[0m\n\u001b[1;32m----> 8\u001b[1;33m \u001b[0mprint\u001b[0m\u001b[1;33m(\u001b[0m\u001b[0mKelvinToFahrenheit\u001b[0m\u001b[1;33m(\u001b[0m\u001b[1;33m-\u001b[0m\u001b[1;36m5\u001b[0m\u001b[1;33m)\u001b[0m\u001b[1;33m)\u001b[0m\u001b[1;33m\u001b[0m\u001b[0m\n\u001b[0m",
      "\u001b[1;32m<ipython-input-1-7946d738f5ec>\u001b[0m in \u001b[0;36mKelvinToFahrenheit\u001b[1;34m(Temperature)\u001b[0m\n\u001b[0;32m      2\u001b[0m \u001b[1;31m#assert example\u001b[0m\u001b[1;33m\u001b[0m\u001b[1;33m\u001b[0m\u001b[0m\n\u001b[0;32m      3\u001b[0m \u001b[1;32mdef\u001b[0m \u001b[0mKelvinToFahrenheit\u001b[0m\u001b[1;33m(\u001b[0m\u001b[0mTemperature\u001b[0m\u001b[1;33m)\u001b[0m\u001b[1;33m:\u001b[0m\u001b[1;33m\u001b[0m\u001b[0m\n\u001b[1;32m----> 4\u001b[1;33m     \u001b[1;32massert\u001b[0m\u001b[1;33m(\u001b[0m\u001b[0mTemperature\u001b[0m\u001b[1;33m>=\u001b[0m\u001b[1;36m0\u001b[0m\u001b[1;33m)\u001b[0m\u001b[1;33m,\u001b[0m \u001b[1;34m\"Colder than absolute zero!\"\u001b[0m\u001b[1;33m\u001b[0m\u001b[0m\n\u001b[0m\u001b[0;32m      5\u001b[0m     \u001b[1;32mreturn\u001b[0m \u001b[1;33m(\u001b[0m\u001b[1;33m(\u001b[0m\u001b[0mTemperature\u001b[0m\u001b[1;33m-\u001b[0m\u001b[1;36m273\u001b[0m\u001b[1;33m)\u001b[0m\u001b[1;33m*\u001b[0m\u001b[1;36m1.8\u001b[0m\u001b[1;33m)\u001b[0m\u001b[1;33m+\u001b[0m\u001b[1;36m32\u001b[0m\u001b[1;33m\u001b[0m\u001b[0m\n\u001b[0;32m      6\u001b[0m \u001b[0mprint\u001b[0m\u001b[1;33m(\u001b[0m\u001b[0mKelvinToFahrenheit\u001b[0m\u001b[1;33m(\u001b[0m\u001b[1;36m273\u001b[0m\u001b[1;33m)\u001b[0m\u001b[1;33m)\u001b[0m\u001b[1;33m\u001b[0m\u001b[0m\n",
      "\u001b[1;31mAssertionError\u001b[0m: Colder than absolute zero!"
     ]
    }
   ],
   "source": [
    "#Exceptions Handling in Python\n",
    "#assert example\n",
    "def KelvinToFahrenheit(Temperature):\n",
    "    assert(Temperature>=0), \"Colder than absolute zero!\"\n",
    "    return ((Temperature-273)*1.8)+32\n",
    "print(KelvinToFahrenheit(273))\n",
    "print(int(KelvinToFahrenheit(505.78)))\n",
    "print(KelvinToFahrenheit(-5))\n"
   ]
  },
  {
   "cell_type": "code",
   "execution_count": null,
   "metadata": {},
   "outputs": [],
   "source": [
    "#Exceptions\n",
    "try:\n",
    "    fh=open(\"testfile\",\"w\")\n",
    "    fh.write(\"This is my test file for exceptions handling!!\")\n",
    "except IOError:\n",
    "    print(\"Error: Can\\'t find or write into file'\")\n",
    "else:\n",
    "    print(\"Written content in the file successfully\")\n",
    "fh.close()\n"
   ]
  }
 ],
 "metadata": {
  "kernelspec": {
   "display_name": "Python 3",
   "language": "python",
   "name": "python3"
  },
  "language_info": {
   "codemirror_mode": {
    "name": "ipython",
    "version": 3
   },
   "file_extension": ".py",
   "mimetype": "text/x-python",
   "name": "python",
   "nbconvert_exporter": "python",
   "pygments_lexer": "ipython3",
   "version": "3.7.0"
  }
 },
 "nbformat": 4,
 "nbformat_minor": 2
}
